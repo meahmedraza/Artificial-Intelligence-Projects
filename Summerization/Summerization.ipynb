{
 "cells": [
  {
   "cell_type": "code",
   "execution_count": 2,
   "id": "92e18889",
   "metadata": {
    "scrolled": true
   },
   "outputs": [
    {
     "name": "stdout",
     "output_type": "stream",
     "text": [
      "\n",
      "    A Lion lay asleep in the forest, his great head resting on his paws. A timid little Mouse came upon him unexpectedly, and in her fright and haste to get away, ran across the Lion's nose. Roused from his nap, the Lion laid his huge paw angrily on the tiny creature to kill her.\n"
     ]
    },
    {
     "name": "stderr",
     "output_type": "stream",
     "text": [
      "[nltk_data] Error loading punkt: <urlopen error [Errno 11001]\n",
      "[nltk_data]     getaddrinfo failed>\n",
      "[nltk_data] Error loading stopwords: <urlopen error [Errno 11001]\n",
      "[nltk_data]     getaddrinfo failed>\n"
     ]
    }
   ],
   "source": [
    "import nltk\n",
    "from nltk.corpus import stopwords\n",
    "from nltk.tokenize import word_tokenize, sent_tokenize\n",
    "from nltk.stem import PorterStemmer\n",
    "from nltk.probability import FreqDist\n",
    "import numpy as np\n",
    "import networkx as nx\n",
    "\n",
    "nltk.download('punkt')\n",
    "nltk.download('stopwords')\n",
    "\n",
    "def preprocess_text(text):\n",
    "    \n",
    "    sentences = sent_tokenize(text)\n",
    "    words = word_tokenize(text)\n",
    "\n",
    "    words = [word.lower() for word in words]\n",
    "\n",
    "    stop_words = set(stopwords.words('english'))\n",
    "    words = [word for word in words if word.isalpha() and word not in stop_words]\n",
    "\n",
    "    stemmer = PorterStemmer()\n",
    "    words = [stemmer.stem(word) for word in words]\n",
    "\n",
    "    return sentences, words\n",
    "\n",
    "def calculate_sentence_scores(sentences, words):\n",
    "\n",
    "    word_freq = FreqDist(words)\n",
    "\n",
    "    sentence_scores = {}\n",
    "    for i, sentence in enumerate(sentences):\n",
    "        for word in word_tokenize(sentence.lower()):\n",
    "            if word in word_freq:\n",
    "                if i in sentence_scores:\n",
    "                    sentence_scores[i] += word_freq[word]\n",
    "                else:\n",
    "                    sentence_scores[i] = word_freq[word]\n",
    "\n",
    "    return sentence_scores\n",
    "\n",
    "def generate_summary(sentences, sentence_scores, num_sentences):\n",
    "\n",
    "    graph = nx.Graph()\n",
    "    graph.add_nodes_from(range(len(sentences)))\n",
    "    for i, score in sentence_scores.items():\n",
    "        graph.add_edge(i, i, weight=score)\n",
    "\n",
    "    scores = nx.pagerank(graph)\n",
    "\n",
    "    ranked_sentences = sorted(scores.items(), key=lambda x: x[1], reverse=True)\n",
    "\n",
    "    selected_sentences = []\n",
    "    for i in range(min(num_sentences, len(sentences))):\n",
    "        selected_sentences.append(sentences[ranked_sentences[i][0]])\n",
    "\n",
    "    summary = ' '.join(selected_sentences)\n",
    "\n",
    "    return summary\n",
    "\n",
    "# Example usage\n",
    "text = \"\"\"\n",
    "    A Lion lay asleep in the forest, his great head resting on his paws. A timid little Mouse came upon him unexpectedly, and in her fright and haste to get away, ran across the Lion's nose. Roused from his nap, the Lion laid his huge paw angrily on the tiny creature to kill her.\n",
    "\n",
    "\"Spare me!\" begged the poor Mouse. \"Please let me go and some day I will surely repay you.\"\n",
    "\n",
    "The Lion was much amused to think that a Mouse could ever help him. But he was generous and finally let the Mouse go.\n",
    "\n",
    "Some days later, while stalking his prey in the forest, the Lion was caught in the toils of a hunter's net. Unable to free himself, he filled the forest with his angry roaring. The Mouse knew the voice and quickly found the Lion struggling in the net. Running to one of the great ropes that bound him, she gnawed it until it parted, and soon the Lion was free.\n",
    "\n",
    "\"You laughed when I said I would repay you,\" said the Mouse. \"Now you see that even a Mouse can help a Lion.\"\n",
    "    \"\"\"\n",
    "\n",
    "sentences, words = preprocess_text(text)\n",
    "sentence_scores = calculate_sentence_scores(sentences, words)\n",
    "summary = generate_summary(sentences, sentence_scores, num_sentences=3)\n",
    "print(summary)\n"
   ]
  },
  {
   "cell_type": "code",
   "execution_count": null,
   "id": "6a86b142",
   "metadata": {},
   "outputs": [],
   "source": []
  },
  {
   "cell_type": "code",
   "execution_count": null,
   "id": "a1c8cc2a",
   "metadata": {},
   "outputs": [],
   "source": []
  }
 ],
 "metadata": {
  "kernelspec": {
   "display_name": "Python 3 (ipykernel)",
   "language": "python",
   "name": "python3"
  },
  "language_info": {
   "codemirror_mode": {
    "name": "ipython",
    "version": 3
   },
   "file_extension": ".py",
   "mimetype": "text/x-python",
   "name": "python",
   "nbconvert_exporter": "python",
   "pygments_lexer": "ipython3",
   "version": "3.9.12"
  }
 },
 "nbformat": 4,
 "nbformat_minor": 5
}
