{
 "cells": [
  {
   "cell_type": "code",
   "execution_count": 4,
   "id": "36a20f62",
   "metadata": {},
   "outputs": [],
   "source": [
    "import tensorflow as tf\n",
    "from keras.layers import Dense, Dropout, Flatten, Conv2D, MaxPool2D, BatchNormalization\n",
    "from keras.models import Sequential\n",
    "from sklearn.model_selection import train_test_split\n",
    "import numpy as np\n",
    "import pandas as pd\n",
    "import matplotlib.pyplot as plt"
   ]
  },
  {
   "cell_type": "code",
   "execution_count": 7,
   "id": "68d5520d",
   "metadata": {},
   "outputs": [],
   "source": [
    "# Load the dataset\n",
    "train_images = pd.read_csv('a.csv')\n",
    "#test = pd.read_csv('a.csv')"
   ]
  },
  {
   "cell_type": "code",
   "execution_count": 18,
   "id": "8fd0d408",
   "metadata": {},
   "outputs": [],
   "source": [
    "train_images = train.iloc[:,1:].values.reshape(-1,50,50,1)"
   ]
  },
  {
   "cell_type": "code",
   "execution_count": 19,
   "id": "cdddfdc4",
   "metadata": {},
   "outputs": [],
   "source": [
    "SEED = 40\n",
    "train_x, valid_x, train_y, valid_y = train_test_split(train_images, train['label'], test_size=0.2, random_state=SEED )"
   ]
  },
  {
   "cell_type": "code",
   "execution_count": 10,
   "id": "758edf9a",
   "metadata": {},
   "outputs": [],
   "source": [
    "# Separate the target column (first column) from the rest of the data\n",
    "#train_y = train.iloc[:, 0]  # Assuming the target column is at index 0\n",
    "#train_x = train.iloc[:, 1:]  # Assuming the independent variables start from index 1"
   ]
  },
  {
   "cell_type": "code",
   "execution_count": 11,
   "id": "114020c7",
   "metadata": {},
   "outputs": [],
   "source": [
    "# Separate the target column (first column) from the rest of the data\n",
    "#test_y = test.iloc[:, 0]  # Assuming the target column is at index 0\n",
    "#test_x = test.iloc[:, 1:]  # Assuming the independent variables start from index 1"
   ]
  },
  {
   "cell_type": "code",
   "execution_count": 20,
   "id": "7b9ec665",
   "metadata": {},
   "outputs": [],
   "source": [
    "model = Sequential()\n",
    "model.add(Conv2D(32, (3, 3), activation='relu', input_shape=(50, 50, 1)))\n",
    "model.add(MaxPool2D((2, 2)))\n",
    "model.add(Dropout(0.25))\n",
    "model.add(Conv2D(64, (3, 3), activation='relu'))\n",
    "model.add(MaxPool2D((2, 2)))\n",
    "model.add(Dropout(0.25))\n",
    "model.add(Conv2D(128, (3, 3), activation='relu'))\n",
    "model.add(MaxPool2D((2, 2)))\n",
    "model.add(Dropout(0.25))\n",
    "model.add(Flatten())\n",
    "model.add(Dense(128, activation='relu'))\n",
    "model.add(Dropout(0.5))\n",
    "model.add(Dense(61, activation='softmax'))  # Assuming 20 classes in the dataset"
   ]
  },
  {
   "cell_type": "code",
   "execution_count": 22,
   "id": "d2cf73a3",
   "metadata": {},
   "outputs": [
    {
     "name": "stdout",
     "output_type": "stream",
     "text": [
      "Epoch 1/50\n",
      "1616/1616 [==============================] - 66s 39ms/step - loss: 2.2653 - accuracy: 0.3036 - val_loss: 1.4182 - val_accuracy: 0.5818\n",
      "Epoch 2/50\n",
      "1616/1616 [==============================] - 70s 43ms/step - loss: 1.5802 - accuracy: 0.4968 - val_loss: 1.0593 - val_accuracy: 0.6836\n",
      "Epoch 3/50\n",
      "1616/1616 [==============================] - 72s 45ms/step - loss: 1.3689 - accuracy: 0.5631 - val_loss: 0.9481 - val_accuracy: 0.7283\n",
      "Epoch 4/50\n",
      "1616/1616 [==============================] - 74s 46ms/step - loss: 1.2418 - accuracy: 0.6010 - val_loss: 0.8166 - val_accuracy: 0.7682\n",
      "Epoch 5/50\n",
      "1616/1616 [==============================] - 74s 46ms/step - loss: 1.1438 - accuracy: 0.6340 - val_loss: 0.7093 - val_accuracy: 0.7896\n",
      "Epoch 6/50\n",
      "1616/1616 [==============================] - 75s 46ms/step - loss: 1.0804 - accuracy: 0.6539 - val_loss: 0.6715 - val_accuracy: 0.7999\n",
      "Epoch 7/50\n",
      "1616/1616 [==============================] - 77s 48ms/step - loss: 1.0204 - accuracy: 0.6726 - val_loss: 0.6388 - val_accuracy: 0.8200\n",
      "Epoch 8/50\n",
      "1616/1616 [==============================] - 77s 48ms/step - loss: 0.9794 - accuracy: 0.6863 - val_loss: 0.5816 - val_accuracy: 0.8307\n",
      "Epoch 9/50\n",
      "1616/1616 [==============================] - 75s 46ms/step - loss: 0.9391 - accuracy: 0.6980 - val_loss: 0.6017 - val_accuracy: 0.8276\n",
      "Epoch 10/50\n",
      "1616/1616 [==============================] - 77s 48ms/step - loss: 0.9084 - accuracy: 0.7071 - val_loss: 0.5709 - val_accuracy: 0.8372\n",
      "Epoch 11/50\n",
      "1616/1616 [==============================] - 78s 48ms/step - loss: 0.8822 - accuracy: 0.7170 - val_loss: 0.5482 - val_accuracy: 0.8392\n",
      "Epoch 12/50\n",
      "1616/1616 [==============================] - 77s 48ms/step - loss: 0.8612 - accuracy: 0.7236 - val_loss: 0.5068 - val_accuracy: 0.8457\n",
      "Epoch 13/50\n",
      "1616/1616 [==============================] - 78s 48ms/step - loss: 0.8384 - accuracy: 0.7308 - val_loss: 0.5202 - val_accuracy: 0.8534\n",
      "Epoch 14/50\n",
      "1616/1616 [==============================] - 72s 45ms/step - loss: 0.8252 - accuracy: 0.7356 - val_loss: 0.4990 - val_accuracy: 0.8535\n",
      "Epoch 15/50\n",
      "1616/1616 [==============================] - 70s 43ms/step - loss: 0.8041 - accuracy: 0.7429 - val_loss: 0.5016 - val_accuracy: 0.8592\n",
      "Epoch 16/50\n",
      "1616/1616 [==============================] - 71s 44ms/step - loss: 0.7854 - accuracy: 0.7494 - val_loss: 0.4949 - val_accuracy: 0.8596\n",
      "Epoch 17/50\n",
      "1616/1616 [==============================] - 71s 44ms/step - loss: 0.7858 - accuracy: 0.7477 - val_loss: 0.4674 - val_accuracy: 0.8632\n",
      "Epoch 18/50\n",
      "1616/1616 [==============================] - 75s 47ms/step - loss: 0.7671 - accuracy: 0.7555 - val_loss: 0.4670 - val_accuracy: 0.8661\n",
      "Epoch 19/50\n",
      "1616/1616 [==============================] - 78s 48ms/step - loss: 0.7462 - accuracy: 0.7628 - val_loss: 0.4458 - val_accuracy: 0.8671\n",
      "Epoch 20/50\n",
      "1616/1616 [==============================] - 78s 48ms/step - loss: 0.7376 - accuracy: 0.7624 - val_loss: 0.4466 - val_accuracy: 0.8694\n",
      "Epoch 21/50\n",
      "1616/1616 [==============================] - 80s 50ms/step - loss: 0.7333 - accuracy: 0.7653 - val_loss: 0.4551 - val_accuracy: 0.8664\n",
      "Epoch 22/50\n",
      "1616/1616 [==============================] - 77s 48ms/step - loss: 0.7246 - accuracy: 0.7673 - val_loss: 0.4766 - val_accuracy: 0.8642\n",
      "Epoch 23/50\n",
      "1616/1616 [==============================] - 76s 47ms/step - loss: 0.7218 - accuracy: 0.7703 - val_loss: 0.4348 - val_accuracy: 0.8717\n",
      "Epoch 24/50\n",
      "1616/1616 [==============================] - 933s 577ms/step - loss: 0.7064 - accuracy: 0.7751 - val_loss: 0.4486 - val_accuracy: 0.8696\n",
      "Epoch 25/50\n",
      "1616/1616 [==============================] - 75s 46ms/step - loss: 0.6995 - accuracy: 0.7753 - val_loss: 0.4203 - val_accuracy: 0.8752\n",
      "Epoch 26/50\n",
      "1616/1616 [==============================] - 72s 45ms/step - loss: 0.6905 - accuracy: 0.7782 - val_loss: 0.4223 - val_accuracy: 0.8735\n",
      "Epoch 27/50\n",
      "1616/1616 [==============================] - 73s 45ms/step - loss: 0.6889 - accuracy: 0.7777 - val_loss: 0.4332 - val_accuracy: 0.8721\n",
      "Epoch 28/50\n",
      "1616/1616 [==============================] - 76s 47ms/step - loss: 0.6739 - accuracy: 0.7840 - val_loss: 0.4406 - val_accuracy: 0.8737\n",
      "Epoch 29/50\n",
      "1616/1616 [==============================] - 77s 48ms/step - loss: 0.6749 - accuracy: 0.7834 - val_loss: 0.4100 - val_accuracy: 0.8751\n",
      "Epoch 30/50\n",
      "1616/1616 [==============================] - 77s 48ms/step - loss: 0.6705 - accuracy: 0.7870 - val_loss: 0.4033 - val_accuracy: 0.8762\n",
      "Epoch 31/50\n",
      "1616/1616 [==============================] - 77s 48ms/step - loss: 0.6712 - accuracy: 0.7845 - val_loss: 0.4306 - val_accuracy: 0.8793\n",
      "Epoch 32/50\n",
      "1616/1616 [==============================] - 81s 50ms/step - loss: 0.6661 - accuracy: 0.7898 - val_loss: 0.4206 - val_accuracy: 0.8779\n",
      "Epoch 33/50\n",
      "1616/1616 [==============================] - 73s 45ms/step - loss: 0.6599 - accuracy: 0.7910 - val_loss: 0.3931 - val_accuracy: 0.8815\n",
      "Epoch 34/50\n",
      "1616/1616 [==============================] - 73s 45ms/step - loss: 0.6514 - accuracy: 0.7897 - val_loss: 0.3987 - val_accuracy: 0.8836\n",
      "Epoch 35/50\n",
      "1616/1616 [==============================] - 73s 45ms/step - loss: 0.6536 - accuracy: 0.7928 - val_loss: 0.4070 - val_accuracy: 0.8783\n",
      "Epoch 36/50\n",
      "1616/1616 [==============================] - 73s 45ms/step - loss: 0.6437 - accuracy: 0.7965 - val_loss: 0.3879 - val_accuracy: 0.8845\n",
      "Epoch 37/50\n",
      "1616/1616 [==============================] - 73s 45ms/step - loss: 0.6436 - accuracy: 0.7948 - val_loss: 0.3947 - val_accuracy: 0.8831\n",
      "Epoch 38/50\n",
      "1616/1616 [==============================] - 74s 46ms/step - loss: 0.6512 - accuracy: 0.7923 - val_loss: 0.4031 - val_accuracy: 0.8834\n",
      "Epoch 39/50\n",
      "1616/1616 [==============================] - 76s 47ms/step - loss: 0.6410 - accuracy: 0.7963 - val_loss: 0.3886 - val_accuracy: 0.8820\n",
      "Epoch 40/50\n",
      "1616/1616 [==============================] - 76s 47ms/step - loss: 0.6409 - accuracy: 0.7951 - val_loss: 0.3881 - val_accuracy: 0.8817\n",
      "Epoch 41/50\n",
      "1616/1616 [==============================] - 73s 45ms/step - loss: 0.6295 - accuracy: 0.7995 - val_loss: 0.3955 - val_accuracy: 0.8829\n",
      "Epoch 42/50\n",
      "1616/1616 [==============================] - 74s 46ms/step - loss: 0.6275 - accuracy: 0.7998 - val_loss: 0.3750 - val_accuracy: 0.8856\n",
      "Epoch 43/50\n",
      "1616/1616 [==============================] - 78s 48ms/step - loss: 0.6244 - accuracy: 0.8011 - val_loss: 0.3840 - val_accuracy: 0.8840\n",
      "Epoch 44/50\n",
      "1616/1616 [==============================] - 77s 48ms/step - loss: 0.6167 - accuracy: 0.8033 - val_loss: 0.3750 - val_accuracy: 0.8826\n",
      "Epoch 45/50\n",
      "1616/1616 [==============================] - 75s 46ms/step - loss: 0.6294 - accuracy: 0.8005 - val_loss: 0.3761 - val_accuracy: 0.8853\n",
      "Epoch 46/50\n",
      "1616/1616 [==============================] - 76s 47ms/step - loss: 0.6248 - accuracy: 0.8015 - val_loss: 0.3708 - val_accuracy: 0.8881\n",
      "Epoch 47/50\n",
      "1616/1616 [==============================] - 77s 48ms/step - loss: 0.6056 - accuracy: 0.8065 - val_loss: 0.3752 - val_accuracy: 0.8872\n",
      "Epoch 48/50\n",
      "1616/1616 [==============================] - 77s 48ms/step - loss: 0.6155 - accuracy: 0.8015 - val_loss: 0.3747 - val_accuracy: 0.8902\n",
      "Epoch 49/50\n",
      "1616/1616 [==============================] - 74s 46ms/step - loss: 0.6030 - accuracy: 0.8068 - val_loss: 0.3779 - val_accuracy: 0.8868\n",
      "Epoch 50/50\n",
      "1616/1616 [==============================] - 74s 46ms/step - loss: 0.6132 - accuracy: 0.8043 - val_loss: 0.3643 - val_accuracy: 0.8847\n"
     ]
    }
   ],
   "source": [
    "# Compile the model\n",
    "model.compile(optimizer='adam', loss='sparse_categorical_crossentropy', metrics=['accuracy'])\n",
    "\n",
    "# Train the model\n",
    "history = model.fit(train_x, train_y, epochs=50, batch_size=20, validation_data=(valid_x, valid_y))"
   ]
  },
  {
   "cell_type": "code",
   "execution_count": 25,
   "id": "92d1c9b8",
   "metadata": {},
   "outputs": [
    {
     "name": "stdout",
     "output_type": "stream",
     "text": [
      "Training accuracy: 0.9344912171363831\n"
     ]
    }
   ],
   "source": [
    "# Evaluate the model\n",
    "_, train_accuracy = model.evaluate(train_x, train_y, verbose=0)\n",
    "print(\"Training accuracy:\", train_accuracy)"
   ]
  },
  {
   "cell_type": "code",
   "execution_count": 26,
   "id": "8a7b622c",
   "metadata": {},
   "outputs": [
    {
     "name": "stdout",
     "output_type": "stream",
     "text": [
      "Validation accuracy: 0.8847201466560364\n"
     ]
    }
   ],
   "source": [
    "_, validation_accuracy = model.evaluate(valid_x, valid_y, verbose=0)\n",
    "print(\"Validation accuracy:\", validation_accuracy)"
   ]
  },
  {
   "cell_type": "code",
   "execution_count": 27,
   "id": "c4ea74f8",
   "metadata": {},
   "outputs": [],
   "source": [
    "# Save the model\n",
    "model.save(\"hcr.h5\")"
   ]
  },
  {
   "cell_type": "code",
   "execution_count": null,
   "id": "e2b1ffac",
   "metadata": {},
   "outputs": [],
   "source": []
  },
  {
   "cell_type": "code",
   "execution_count": null,
   "id": "aeb10552",
   "metadata": {},
   "outputs": [],
   "source": []
  },
  {
   "cell_type": "code",
   "execution_count": null,
   "id": "295737b9",
   "metadata": {},
   "outputs": [],
   "source": []
  }
 ],
 "metadata": {
  "kernelspec": {
   "display_name": "Python 3 (ipykernel)",
   "language": "python",
   "name": "python3"
  },
  "language_info": {
   "codemirror_mode": {
    "name": "ipython",
    "version": 3
   },
   "file_extension": ".py",
   "mimetype": "text/x-python",
   "name": "python",
   "nbconvert_exporter": "python",
   "pygments_lexer": "ipython3",
   "version": "3.10.9"
  }
 },
 "nbformat": 4,
 "nbformat_minor": 5
}
